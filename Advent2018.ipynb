{
 "cells": [
  {
   "cell_type": "code",
   "execution_count": 12,
   "metadata": {},
   "outputs": [],
   "source": [
    "import os\n",
    "import re\n",
    "\n",
    "from collections import defaultdict, Counter\n",
    "import numpy as np"
   ]
  },
  {
   "cell_type": "code",
   "execution_count": 2,
   "metadata": {},
   "outputs": [],
   "source": [
    "def Input(day):\n",
    "    # Read an input\n",
    "    filename = 'data/{}.txt'.format(day)\n",
    "    return open(filename)\n",
    "\n",
    "def Lines(day):\n",
    "    # Read the input and convert to an array of strings.\n",
    "    return Input(day).read().splitlines()\n",
    "\n",
    "def vector(day):\n",
    "    # Read the input, and convert it to a vector of numbers\n",
    "    return list(map(float, Lines(day)))"
   ]
  },
  {
   "cell_type": "markdown",
   "metadata": {},
   "source": [
    "## Day 1"
   ]
  },
  {
   "cell_type": "code",
   "execution_count": 3,
   "metadata": {},
   "outputs": [
    {
     "name": "stdout",
     "output_type": "stream",
     "text": [
      "533.0\n"
     ]
    }
   ],
   "source": [
    "# Read input\n",
    "inp = vector(1)\n",
    "           \n",
    "# The answer to the first one is just the sum\n",
    "print(sum(inp))"
   ]
  },
  {
   "cell_type": "code",
   "execution_count": 4,
   "metadata": {},
   "outputs": [
    {
     "name": "stdout",
     "output_type": "stream",
     "text": [
      "Found freq: 73272.0 at iteration 130408 (528 passes)\n"
     ]
    }
   ],
   "source": [
    "# For the second part, use a set to determine if we've seen \n",
    "# a frequency before\n",
    "v = set()\n",
    "ii = 0\n",
    "s = 0\n",
    "found = False\n",
    "while not found:\n",
    "    s = s + inp[ii % len(inp)]\n",
    "    if s in v:\n",
    "        print(\"Found freq: {} at iteration {} ({} passes)\".format(\n",
    "                s, ii, ii % len(inp)))\n",
    "        break\n",
    "    v.add(s)\n",
    "    ii = ii + 1"
   ]
  },
  {
   "cell_type": "markdown",
   "metadata": {},
   "source": [
    "## Day 2"
   ]
  },
  {
   "cell_type": "code",
   "execution_count": 5,
   "metadata": {},
   "outputs": [
    {
     "name": "stdout",
     "output_type": "stream",
     "text": [
      "Twos: 245, Threes: 36, Checksum: 8820\n"
     ]
    }
   ],
   "source": [
    "def checksum(s):\n",
    "    cnt = Counter()\n",
    "    for l in s:\n",
    "        cnt[l] += 1\n",
    "    return (2 in cnt.values(), 3 in cnt.values())\n",
    "\n",
    "assert(checksum('abcdef') == (False, False))\n",
    "assert(checksum('bababc') == (True, True))\n",
    "assert(checksum('abbcde') == (True, False))\n",
    "assert(checksum('abcccd') == (False, True))\n",
    "assert(checksum('aabcdd') == (True, False))\n",
    "assert(checksum('abcdee') == (True, False))\n",
    "assert(checksum('ababab') == (False, True))\n",
    "\n",
    "inp = Lines(2)\n",
    "\n",
    "twos = 0\n",
    "threes = 0\n",
    "\n",
    "for line in inp:\n",
    "    cnt = checksum(line)\n",
    "    if cnt[0]:\n",
    "        twos += 1\n",
    "    if cnt[1]:\n",
    "        threes += 1\n",
    "        \n",
    "print('Twos: {}, Threes: {}, Checksum: {}'.format(twos, threes, twos * threes))     "
   ]
  },
  {
   "cell_type": "code",
   "execution_count": 6,
   "metadata": {},
   "outputs": [
    {
     "name": "stdout",
     "output_type": "stream",
     "text": [
      "bpacnmglhizqygfsjixtlkwudr\n",
      "bpacnmglhizqygfsjixtukwudr\n",
      "bpacnmglhizqygfsjixtkwudr\n"
     ]
    }
   ],
   "source": [
    "def diff(s1, s2):\n",
    "    count = 0\n",
    "    for (c1, c2) in zip(s1, s2):\n",
    "        if c1 != c2:\n",
    "            count += 1\n",
    "    return count\n",
    "    \n",
    "fline1 = None\n",
    "fline2 = None\n",
    "    \n",
    "for line1 in inp:\n",
    "    for line2 in inp:\n",
    "        if diff(line1, line2) == 1:\n",
    "            fline1 = line1\n",
    "            fline2 = line2\n",
    "            break\n",
    "    if fline1:\n",
    "        break\n",
    "        \n",
    "print(fline1)\n",
    "print(fline2)\n",
    "\n",
    "out = ''\n",
    "for (c1, c2) in zip(fline1, fline2):\n",
    "    if c1 == c2:\n",
    "        out += c1\n",
    "print(out)"
   ]
  },
  {
   "cell_type": "markdown",
   "metadata": {},
   "source": [
    "## Day 3"
   ]
  },
  {
   "cell_type": "code",
   "execution_count": 7,
   "metadata": {},
   "outputs": [
    {
     "name": "stdout",
     "output_type": "stream",
     "text": [
      "119551\n"
     ]
    }
   ],
   "source": [
    "def parse_claim(claim_str):\n",
    "    ids, rem = claim_str.split('@')\n",
    "    ids = int(ids.strip('#'))\n",
    "    coords, size = rem.split(':')\n",
    "    left, top = map(int, coords.split(','))\n",
    "    width, height = map(int, size.split('x'))\n",
    "    return (ids, left, top, width, height)\n",
    "\n",
    "\n",
    "claims = []\n",
    "for inp in Lines(3):\n",
    "    claims.append(parse_claim(inp))\n",
    "    \n",
    "fabric = np.zeros((1000, 1000), dtype=np.int32)\n",
    "for claim in claims:\n",
    "    ids, left, top, width, height = claim\n",
    "    fabric[left:left+width, top:top+height] +=  1\n",
    "print(np.sum(fabric > 1))"
   ]
  },
  {
   "cell_type": "code",
   "execution_count": 8,
   "metadata": {},
   "outputs": [
    {
     "name": "stdout",
     "output_type": "stream",
     "text": [
      "1124\n"
     ]
    }
   ],
   "source": [
    "for claim in claims:\n",
    "    ids, left, top, width, height = claim\n",
    "    section = fabric[left:left+width, top:top+height]\n",
    "    if np.all(section == 1):\n",
    "        print(ids)"
   ]
  },
  {
   "cell_type": "markdown",
   "metadata": {},
   "source": [
    "## Day 4"
   ]
  },
  {
   "cell_type": "code",
   "execution_count": 195,
   "metadata": {},
   "outputs": [
    {
     "name": "stdout",
     "output_type": "stream",
     "text": [
      "dict_keys([887, 2441, 571, 1889, 2207, 971, 2963, 3539, 613, 1291, 239, 1021, 673, 1249, 911, 1877, 881, 1607, 331, 929, 1913, 79, 877])\n",
      "2441 (8, 8)\n",
      "2441 39 95199\n"
     ]
    }
   ],
   "source": [
    "inp = Lines(4)\n",
    "r = re.compile('\\[(\\d+)-(\\d+)-(\\d+) (\\d+):(\\d+)\\] (.*)')\n",
    "\n",
    "logs = []\n",
    "for line in inp:\n",
    "    m = r.match(line)\n",
    "    logs.append(m.groups())\n",
    "logs = sorted(logs, key = lambda log: (log[0], log[1], log[2], log[3], log[4]))\n",
    "\n",
    "guards = {}\n",
    "\n",
    "last_guard = -1\n",
    "\n",
    "for log in logs:\n",
    "    match = re.search('Guard #(\\d*)', log[5])\n",
    "    if match:\n",
    "        guard = int(match.group(1))\n",
    "        last_guard = guard\n",
    "        if guard not in guards:\n",
    "            guards[guard] = {'asleep': [], 'awake': []}\n",
    "    if log[5].find('asleep') >= 0:\n",
    "        guards[last_guard]['asleep'].append((int(log[3]), int(log[4])))\n",
    "    if log[5].find('wakes') >= 0:\n",
    "        guards[last_guard]['awake'].append((int(log[3]), int(log[4])))\n",
    "        \n",
    "print(guards.keys())\n",
    "\n",
    "def sub(awake, asleep):\n",
    "    minutes = awake[1] - asleep[1]\n",
    "    hours = awake[0] - asleep[0]\n",
    "    if minutes >= 60:\n",
    "        hours += 1\n",
    "        minutes -= 60\n",
    "    return (hours, minutes)\n",
    "\n",
    "def add(t1, t2):\n",
    "    minutes = t1[1] + t2[1]\n",
    "    hours = t1[0] + t2[0]\n",
    "    \n",
    "    if minutes >= 60:\n",
    "        hours += 1\n",
    "        minutes -= 60\n",
    "    return (hours, minutes)\n",
    "\n",
    "for guard, values in guards.items():\n",
    "    total = (0, 0)\n",
    "    for asleep, awake in zip(values['asleep'], values['awake']):\n",
    "        diff = sub(awake, asleep)\n",
    "        total = add(total, diff)\n",
    "    guards[guard]['total'] = total\n",
    "    \n",
    "guard_ids = sorted(guards, key=lambda g: guards[g]['total'], reverse=True)\n",
    "print(guard_ids[0], guards[guard_ids[0]]['total'])\n",
    "\n",
    "sleepiest = guards[guard_ids[0]]\n",
    "\n",
    "minutes = np.zeros((1, 60) )\n",
    "for asleep, awake in zip(sleepiest['asleep'], sleepiest['awake']):\n",
    "    minutes[0, asleep[1]:awake[1]] += 1\n",
    "    \n",
    "sleepiest_minute = np.argmax(minutes)\n",
    "\n",
    "print(guard_ids[0], sleepiest_minute, guard_ids[0] * sleepiest_minute)"
   ]
  },
  {
   "cell_type": "code",
   "execution_count": 186,
   "metadata": {},
   "outputs": [
    {
     "data": {
      "text/plain": [
       "7887"
      ]
     },
     "execution_count": 186,
     "metadata": {},
     "output_type": "execute_result"
    }
   ],
   "source": [
    "array = np.zeros((len(guard_ids), 60), dtype=np.int32)\n",
    "\n",
    "for ii, guard in enumerate(guard_ids):\n",
    "    for asleep, awake in zip(guards[guard]['asleep'], guards[guard]['awake']):\n",
    "        array[ii, int(asleep[1]): int(awake[1])] += 1\n",
    "m = np.max(array)\n",
    "x, y = np.where(array == m)\n",
    "int(guard_ids[x[0]]) * y[0]"
   ]
  },
  {
   "cell_type": "code",
   "execution_count": 184,
   "metadata": {},
   "outputs": [
    {
     "data": {
      "text/plain": [
       "7887"
      ]
     },
     "execution_count": 184,
     "metadata": {},
     "output_type": "execute_result"
    }
   ],
   "source": []
  },
  {
   "cell_type": "code",
   "execution_count": null,
   "metadata": {},
   "outputs": [],
   "source": []
  }
 ],
 "metadata": {
  "kernelspec": {
   "display_name": "Python 3",
   "language": "python",
   "name": "python3"
  },
  "language_info": {
   "codemirror_mode": {
    "name": "ipython",
    "version": 3
   },
   "file_extension": ".py",
   "mimetype": "text/x-python",
   "name": "python",
   "nbconvert_exporter": "python",
   "pygments_lexer": "ipython3",
   "version": "3.6.6"
  }
 },
 "nbformat": 4,
 "nbformat_minor": 2
}

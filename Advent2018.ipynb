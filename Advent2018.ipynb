{
 "cells": [
  {
   "cell_type": "code",
   "execution_count": 1,
   "metadata": {},
   "outputs": [],
   "source": [
    "import os\n",
    "\n",
    "from collections import defaultdict, Counter\n",
    "import numpy as np"
   ]
  },
  {
   "cell_type": "code",
   "execution_count": 2,
   "metadata": {},
   "outputs": [],
   "source": [
    "def Input(day):\n",
    "    # Read an input\n",
    "    filename = 'data/{}.txt'.format(day)\n",
    "    return open(filename)\n",
    "\n",
    "def Lines(day):\n",
    "    # Read the input and convert to an array of strings.\n",
    "    return Input(day).read().splitlines()\n",
    "\n",
    "def vector(day):\n",
    "    # Read the input, and convert it to a vector of numbers\n",
    "    return list(map(float, Lines(day)))"
   ]
  },
  {
   "cell_type": "markdown",
   "metadata": {},
   "source": [
    "## Day 1"
   ]
  },
  {
   "cell_type": "code",
   "execution_count": 3,
   "metadata": {},
   "outputs": [
    {
     "name": "stdout",
     "output_type": "stream",
     "text": [
      "533.0\n"
     ]
    }
   ],
   "source": [
    "# Read input\n",
    "inp = vector(1)\n",
    "           \n",
    "# The answer to the first one is just the sum\n",
    "print(sum(inp))"
   ]
  },
  {
   "cell_type": "code",
   "execution_count": 4,
   "metadata": {},
   "outputs": [
    {
     "name": "stdout",
     "output_type": "stream",
     "text": [
      "Found freq: 73272.0 at iteration 130408 (528 passes)\n"
     ]
    }
   ],
   "source": [
    "# For the second part, use a set to determine if we've seen \n",
    "# a frequency before\n",
    "v = set()\n",
    "ii = 0\n",
    "s = 0\n",
    "found = False\n",
    "while not found:\n",
    "    s = s + inp[ii % len(inp)]\n",
    "    if s in v:\n",
    "        print(\"Found freq: {} at iteration {} ({} passes)\".format(\n",
    "                s, ii, ii % len(inp)))\n",
    "        break\n",
    "    v.add(s)\n",
    "    ii = ii + 1"
   ]
  },
  {
   "cell_type": "markdown",
   "metadata": {},
   "source": [
    "## Day 2"
   ]
  },
  {
   "cell_type": "code",
   "execution_count": 5,
   "metadata": {},
   "outputs": [
    {
     "name": "stdout",
     "output_type": "stream",
     "text": [
      "Twos: 245, Threes: 36, Checksum: 8820\n"
     ]
    }
   ],
   "source": [
    "def checksum(s):\n",
    "    cnt = Counter()\n",
    "    for l in s:\n",
    "        cnt[l] += 1\n",
    "    return (2 in cnt.values(), 3 in cnt.values())\n",
    "\n",
    "assert(checksum('abcdef') == (False, False))\n",
    "assert(checksum('bababc') == (True, True))\n",
    "assert(checksum('abbcde') == (True, False))\n",
    "assert(checksum('abcccd') == (False, True))\n",
    "assert(checksum('aabcdd') == (True, False))\n",
    "assert(checksum('abcdee') == (True, False))\n",
    "assert(checksum('ababab') == (False, True))\n",
    "\n",
    "inp = Lines(2)\n",
    "\n",
    "twos = 0\n",
    "threes = 0\n",
    "\n",
    "for line in inp:\n",
    "    cnt = checksum(line)\n",
    "    if cnt[0]:\n",
    "        twos += 1\n",
    "    if cnt[1]:\n",
    "        threes += 1\n",
    "        \n",
    "print('Twos: {}, Threes: {}, Checksum: {}'.format(twos, threes, twos * threes))     "
   ]
  },
  {
   "cell_type": "code",
   "execution_count": 6,
   "metadata": {},
   "outputs": [
    {
     "name": "stdout",
     "output_type": "stream",
     "text": [
      "bpacnmglhizqygfsjixtlkwudr\n",
      "bpacnmglhizqygfsjixtukwudr\n",
      "bpacnmglhizqygfsjixtkwudr\n"
     ]
    }
   ],
   "source": [
    "def diff(s1, s2):\n",
    "    count = 0\n",
    "    for (c1, c2) in zip(s1, s2):\n",
    "        if c1 != c2:\n",
    "            count += 1\n",
    "    return count\n",
    "    \n",
    "fline1 = None\n",
    "fline2 = None\n",
    "    \n",
    "for line1 in inp:\n",
    "    for line2 in inp:\n",
    "        if diff(line1, line2) == 1:\n",
    "            fline1 = line1\n",
    "            fline2 = line2\n",
    "            break\n",
    "    if fline1:\n",
    "        break\n",
    "        \n",
    "print(fline1)\n",
    "print(fline2)\n",
    "\n",
    "out = ''\n",
    "for (c1, c2) in zip(fline1, fline2):\n",
    "    if c1 == c2:\n",
    "        out += c1\n",
    "print(out)"
   ]
  },
  {
   "cell_type": "markdown",
   "metadata": {},
   "source": [
    "## Day 3"
   ]
  },
  {
   "cell_type": "code",
   "execution_count": 41,
   "metadata": {},
   "outputs": [
    {
     "name": "stdout",
     "output_type": "stream",
     "text": [
      "119551\n"
     ]
    }
   ],
   "source": [
    "def parse_claim(claim_str):\n",
    "    ids, rem = claim_str.split('@')\n",
    "    ids = int(ids.strip('#'))\n",
    "    coords, size = rem.split(':')\n",
    "    left, top = map(int, coords.split(','))\n",
    "    width, height = map(int, size.split('x'))\n",
    "    return (ids, left, top, width, height)\n",
    "\n",
    "\n",
    "claims = []\n",
    "for inp in Lines(3):\n",
    "    claims.append(parse_claim(inp))\n",
    "    \n",
    "fabric = np.zeros((1000, 1000), dtype=np.int32)\n",
    "\n",
    "for claim in claims:\n",
    "    ids, left, top, width, height = claim\n",
    "    fabric[left:left+width, top:top+height] +=  1\n",
    "print(np.sum(fabric > 1))"
   ]
  },
  {
   "cell_type": "code",
   "execution_count": 46,
   "metadata": {},
   "outputs": [
    {
     "name": "stdout",
     "output_type": "stream",
     "text": [
      "1124\n"
     ]
    }
   ],
   "source": [
    "for claim in claims:\n",
    "    ids, left, top, width, height = claim\n",
    "    section = fabric[left:left+width, top:top+height]\n",
    "    if np.all(section == 1):\n",
    "        print(ids)"
   ]
  },
  {
   "cell_type": "code",
   "execution_count": 45,
   "metadata": {},
   "outputs": [
    {
     "data": {
      "text/plain": [
       "False"
      ]
     },
     "execution_count": 45,
     "metadata": {},
     "output_type": "execute_result"
    }
   ],
   "source": []
  },
  {
   "cell_type": "code",
   "execution_count": null,
   "metadata": {},
   "outputs": [],
   "source": []
  }
 ],
 "metadata": {
  "kernelspec": {
   "display_name": "Python 3",
   "language": "python",
   "name": "python3"
  },
  "language_info": {
   "codemirror_mode": {
    "name": "ipython",
    "version": 3
   },
   "file_extension": ".py",
   "mimetype": "text/x-python",
   "name": "python",
   "nbconvert_exporter": "python",
   "pygments_lexer": "ipython3",
   "version": "3.6.6"
  }
 },
 "nbformat": 4,
 "nbformat_minor": 2
}

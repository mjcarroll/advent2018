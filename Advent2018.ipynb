{
 "cells": [
  {
   "cell_type": "code",
   "execution_count": 1,
   "metadata": {},
   "outputs": [
    {
     "name": "stdout",
     "output_type": "stream",
     "text": [
      "Populating the interactive namespace from numpy and matplotlib\n"
     ]
    }
   ],
   "source": [
    "import datetime\n",
    "import os\n",
    "import re\n",
    "import requests\n",
    "import string\n",
    "\n",
    "import numpy as np\n",
    "\n",
    "from collections import defaultdict, Counter\n",
    "\n",
    "%pylab inline"
   ]
  },
  {
   "cell_type": "code",
   "execution_count": 2,
   "metadata": {},
   "outputs": [],
   "source": [
    "session = os.getenv('ADVENT_SESSION')"
   ]
  },
  {
   "cell_type": "code",
   "execution_count": 3,
   "metadata": {},
   "outputs": [],
   "source": [
    "def GetInput(day):\n",
    "    url = 'https://adventofcode.com/2018/day/{}/input'.format(day)\n",
    "    cookies = {'session': session}\n",
    "    r = requests.get(url, cookies=cookies)\n",
    "    return r.content.decode()\n",
    "    \n",
    "\n",
    "def Input(day):\n",
    "    # Read an input\n",
    "    filename = 'data/{}.txt'.format(day)\n",
    "\n",
    "    try:\n",
    "        f = open(filename)\n",
    "    except:\n",
    "        content = GetInput(day)\n",
    "        f = open(filename, 'w')\n",
    "        f.write(content)\n",
    "        f.seek(0)\n",
    "    return f\n",
    "\n",
    "def Lines(day):\n",
    "    # Read the input and convert to an array of strings.\n",
    "    return Input(day).read().splitlines()\n",
    "\n",
    "def vector(day):\n",
    "    # Read the input, and convert it to a vector of numbers\n",
    "    return list(map(float, Lines(day)))"
   ]
  },
  {
   "cell_type": "markdown",
   "metadata": {},
   "source": [
    "## Day 1"
   ]
  },
  {
   "cell_type": "code",
   "execution_count": 4,
   "metadata": {},
   "outputs": [
    {
     "name": "stdout",
     "output_type": "stream",
     "text": [
      "533.0\n"
     ]
    }
   ],
   "source": [
    "# Read input\n",
    "inp = vector(1)\n",
    "           \n",
    "# The answer to the first one is just the sum\n",
    "print(sum(inp))"
   ]
  },
  {
   "cell_type": "code",
   "execution_count": 5,
   "metadata": {},
   "outputs": [
    {
     "name": "stdout",
     "output_type": "stream",
     "text": [
      "Found freq: 73272.0 at iteration 130408 (528 passes)\n"
     ]
    }
   ],
   "source": [
    "# For the second part, use a set to determine if we've seen \n",
    "# a frequency before\n",
    "v = set()\n",
    "ii = 0\n",
    "s = 0\n",
    "found = False\n",
    "while not found:\n",
    "    s = s + inp[ii % len(inp)]\n",
    "    if s in v:\n",
    "        print(\"Found freq: {} at iteration {} ({} passes)\".format(\n",
    "                s, ii, ii % len(inp)))\n",
    "        break\n",
    "    v.add(s)\n",
    "    ii = ii + 1"
   ]
  },
  {
   "cell_type": "markdown",
   "metadata": {},
   "source": [
    "## Day 2"
   ]
  },
  {
   "cell_type": "code",
   "execution_count": 6,
   "metadata": {},
   "outputs": [
    {
     "name": "stdout",
     "output_type": "stream",
     "text": [
      "Twos: 245, Threes: 36, Checksum: 8820\n"
     ]
    }
   ],
   "source": [
    "def checksum(s):\n",
    "    cnt = Counter()\n",
    "    for l in s:\n",
    "        cnt[l] += 1\n",
    "    return (2 in cnt.values(), 3 in cnt.values())\n",
    "\n",
    "assert(checksum('abcdef') == (False, False))\n",
    "assert(checksum('bababc') == (True, True))\n",
    "assert(checksum('abbcde') == (True, False))\n",
    "assert(checksum('abcccd') == (False, True))\n",
    "assert(checksum('aabcdd') == (True, False))\n",
    "assert(checksum('abcdee') == (True, False))\n",
    "assert(checksum('ababab') == (False, True))\n",
    "\n",
    "inp = Lines(2)\n",
    "\n",
    "twos = 0\n",
    "threes = 0\n",
    "\n",
    "for line in inp:\n",
    "    cnt = checksum(line)\n",
    "    if cnt[0]:\n",
    "        twos += 1\n",
    "    if cnt[1]:\n",
    "        threes += 1\n",
    "        \n",
    "print('Twos: {}, Threes: {}, Checksum: {}'.format(twos, threes, twos * threes))     "
   ]
  },
  {
   "cell_type": "code",
   "execution_count": 7,
   "metadata": {},
   "outputs": [
    {
     "name": "stdout",
     "output_type": "stream",
     "text": [
      "bpacnmglhizqygfsjixtlkwudr\n",
      "bpacnmglhizqygfsjixtukwudr\n",
      "bpacnmglhizqygfsjixtkwudr\n"
     ]
    }
   ],
   "source": [
    "def diff(s1, s2):\n",
    "    count = 0\n",
    "    for (c1, c2) in zip(s1, s2):\n",
    "        if c1 != c2:\n",
    "            count += 1\n",
    "    return count\n",
    "    \n",
    "fline1 = None\n",
    "fline2 = None\n",
    "    \n",
    "for line1 in inp:\n",
    "    for line2 in inp:\n",
    "        if diff(line1, line2) == 1:\n",
    "            fline1 = line1\n",
    "            fline2 = line2\n",
    "            break\n",
    "    if fline1:\n",
    "        break\n",
    "        \n",
    "print(fline1)\n",
    "print(fline2)\n",
    "\n",
    "out = ''\n",
    "for (c1, c2) in zip(fline1, fline2):\n",
    "    if c1 == c2:\n",
    "        out += c1\n",
    "print(out)"
   ]
  },
  {
   "cell_type": "markdown",
   "metadata": {},
   "source": [
    "## Day 3"
   ]
  },
  {
   "cell_type": "code",
   "execution_count": 8,
   "metadata": {},
   "outputs": [
    {
     "name": "stdout",
     "output_type": "stream",
     "text": [
      "119551\n"
     ]
    }
   ],
   "source": [
    "def parse_claim(claim_str):\n",
    "    ids, rem = claim_str.split('@')\n",
    "    ids = int(ids.strip('#'))\n",
    "    coords, size = rem.split(':')\n",
    "    left, top = map(int, coords.split(','))\n",
    "    width, height = map(int, size.split('x'))\n",
    "    return (ids, left, top, width, height)\n",
    "\n",
    "\n",
    "claims = []\n",
    "for inp in Lines(3):\n",
    "    claims.append(parse_claim(inp))\n",
    "    \n",
    "fabric = np.zeros((1000, 1000), dtype=np.int32)\n",
    "for claim in claims:\n",
    "    ids, left, top, width, height = claim\n",
    "    fabric[left:left+width, top:top+height] +=  1\n",
    "print(np.sum(fabric > 1))"
   ]
  },
  {
   "cell_type": "code",
   "execution_count": 9,
   "metadata": {},
   "outputs": [
    {
     "name": "stdout",
     "output_type": "stream",
     "text": [
      "1124\n"
     ]
    }
   ],
   "source": [
    "for claim in claims:\n",
    "    ids, left, top, width, height = claim\n",
    "    section = fabric[left:left+width, top:top+height]\n",
    "    if np.all(section == 1):\n",
    "        print(ids)"
   ]
  },
  {
   "cell_type": "markdown",
   "metadata": {},
   "source": [
    "## Day 4"
   ]
  },
  {
   "cell_type": "code",
   "execution_count": 10,
   "metadata": {},
   "outputs": [
    {
     "name": "stdout",
     "output_type": "stream",
     "text": [
      "2441 8:08:00\n",
      "2441 39 95199\n"
     ]
    }
   ],
   "source": [
    "inp = Lines(4)\n",
    "r = re.compile('\\[(\\d+)-(\\d+)-(\\d+) (\\d+):(\\d+)\\] (.*)')\n",
    "\n",
    "logs = []\n",
    "for line in inp:\n",
    "    m = r.match(line)\n",
    "    logs.append(m.groups())\n",
    "logs = sorted(logs)\n",
    "\n",
    "guards = defaultdict(lambda: {'asleep': [], 'awake': []})\n",
    "last_guard = -1\n",
    "\n",
    "for log in logs:\n",
    "    match = re.search('Guard #(\\d*)', log[5])\n",
    "    if match:\n",
    "        guard = int(match.group(1))\n",
    "        last_guard = guard\n",
    "    if log[5].find('asleep') >= 0:\n",
    "        guards[last_guard]['asleep'].append(datetime.timedelta(hours=int(log[3]), minutes=int(log[4])))\n",
    "    if log[5].find('wakes') >= 0:\n",
    "        guards[last_guard]['awake'].append(datetime.timedelta(hours=int(log[3]), minutes=int(log[4])))\n",
    "        \n",
    "for guard, values in guards.items():\n",
    "    total = datetime.timedelta(0, 0)\n",
    "    for asleep, awake in zip(values['asleep'], values['awake']):\n",
    "        total += awake - asleep\n",
    "    guards[guard]['total'] = total\n",
    "    \n",
    "guard_ids = sorted(guards, key=lambda g: guards[g]['total'], reverse=True)\n",
    "print(guard_ids[0], guards[guard_ids[0]]['total'])\n",
    "\n",
    "sleepiest = guards[guard_ids[0]]\n",
    "\n",
    "minutes = np.zeros((1, 60) )\n",
    "for asleep, awake in zip(sleepiest['asleep'], sleepiest['awake']):\n",
    "    minutes[0, int(asleep.seconds/60):int(awake.seconds/60)] += 1\n",
    "    \n",
    "sleepiest_minute = np.argmax(minutes)\n",
    "\n",
    "print(guard_ids[0], sleepiest_minute, guard_ids[0] * sleepiest_minute)"
   ]
  },
  {
   "cell_type": "code",
   "execution_count": 11,
   "metadata": {},
   "outputs": [
    {
     "data": {
      "text/plain": [
       "7887"
      ]
     },
     "execution_count": 11,
     "metadata": {},
     "output_type": "execute_result"
    }
   ],
   "source": [
    "array = np.zeros((len(guard_ids), 60), dtype=np.int32)\n",
    "\n",
    "for ii, guard in enumerate(guard_ids):\n",
    "    for asleep, awake in zip(guards[guard]['asleep'], guards[guard]['awake']):\n",
    "        array[ii, int(asleep.seconds/60):int(awake.seconds/60)] += 1\n",
    "m = np.max(array)\n",
    "x, y = np.where(array == m)\n",
    "int(guard_ids[x[0]]) * y[0]"
   ]
  },
  {
   "cell_type": "markdown",
   "metadata": {},
   "source": [
    "## Day 5"
   ]
  },
  {
   "cell_type": "code",
   "execution_count": 12,
   "metadata": {},
   "outputs": [
    {
     "name": "stdout",
     "output_type": "stream",
     "text": [
      "dabCBAcaDA\n",
      "9462\n"
     ]
    }
   ],
   "source": [
    "inp = Lines(5)[0]\n",
    "\n",
    "def process(inp):\n",
    "    inp = list(inp)\n",
    "    ii = 0\n",
    "    while ii < len(inp) - 1:\n",
    "        c = inp[ii]\n",
    "        cn = inp[ii+1]\n",
    "\n",
    "        if c.lower() == cn.lower() and c != cn:\n",
    "            inp.pop(ii)\n",
    "            inp.pop(ii)\n",
    "            ii = max([ii - 2, 0])\n",
    "        else:\n",
    "            ii += 1\n",
    "    return ''.join(inp)\n",
    "        \n",
    "print(process('dabAcCaCBAcCcaDA'))\n",
    "print(len(process(inp)))"
   ]
  },
  {
   "cell_type": "code",
   "execution_count": 13,
   "metadata": {},
   "outputs": [
    {
     "name": "stdout",
     "output_type": "stream",
     "text": [
      "m 4952\n"
     ]
    }
   ],
   "source": [
    "lens = {}\n",
    "\n",
    "for unit in string.ascii_lowercase:\n",
    "    new_inp = inp.replace(unit, '')\n",
    "    new_inp = new_inp.replace(unit.upper(), '')\n",
    "    lens[unit] = len(process(new_inp))\n",
    "keys = sorted(lens, key=lambda char: lens[char])\n",
    "\n",
    "print(keys[0], lens[keys[0]])"
   ]
  },
  {
   "cell_type": "markdown",
   "metadata": {},
   "source": [
    "## Day 6"
   ]
  },
  {
   "cell_type": "code",
   "execution_count": 14,
   "metadata": {},
   "outputs": [
    {
     "name": "stdout",
     "output_type": "stream",
     "text": [
      "(47, 4016)\n"
     ]
    },
    {
     "data": {
      "text/plain": [
       "<matplotlib.image.AxesImage at 0x7fdaf0faf320>"
      ]
     },
     "execution_count": 14,
     "metadata": {},
     "output_type": "execute_result"
    },
    {
     "data": {
      "image/png": "[encoded data removed]",
      "text/plain": [
       "<matplotlib.figure.Figure at 0x7fdaf3c75b38>"
      ]
     },
     "metadata": {},
     "output_type": "display_data"
    },
    {
     "data": {
      "image/png": "[encoded data removed]",
      "text/plain": [
       "<matplotlib.figure.Figure at 0x7fdaf3c75f60>"
      ]
     },
     "metadata": {},
     "output_type": "display_data"
    }
   ],
   "source": [
    "coords = []\n",
    "for line in Lines(6):\n",
    "    coords.append(list(map(int, line.split(','))))\n",
    "coords = np.array(coords, dtype=np.int)\n",
    "    \n",
    "dims = np.max(coords, axis=0) - np.min(coords, axis=0)\n",
    "coords = coords - np.min(coords, axis=0)\n",
    "data = np.zeros(dims)\n",
    "\n",
    "for ii in range(0, dims[0]):\n",
    "    for jj in range(0, dims[1]):\n",
    "        dists = np.sum(np.abs(coords - np.array((ii, jj))), axis=1)\n",
    "        m = np.min(dists)\n",
    "        if np.sum(dists == m) > 1:\n",
    "            data[ii, jj] = -1\n",
    "            continue\n",
    "        else:\n",
    "            data[ii,jj] = np.argmin(dists)\n",
    "\n",
    "# Create a mask of the boundary pixels\n",
    "mask = np.ones(dims, dtype=np.bool)\n",
    "mask[1:-2, 1:-2] = False\n",
    "\n",
    "areas = []\n",
    "for ii in range(0, len(coords)):\n",
    "    # Clip the region against the boundary, if it intersects\n",
    "    # Then it must be infinite and throw it out\n",
    "    if np.sum(np.bitwise_and(data == ii, mask)) > 1:\n",
    "        continue\n",
    "    areas.append((ii, np.sum(data == ii)))\n",
    "    \n",
    "areas = sorted(areas, key=lambda a: a[1], reverse=True)\n",
    "print(areas[0])\n",
    "\n",
    "imshow(data)\n",
    "figure()\n",
    "data[data == areas[0][0]] = 150\n",
    "imshow(data)"
   ]
  },
  {
   "cell_type": "code",
   "execution_count": 15,
   "metadata": {},
   "outputs": [
    {
     "name": "stdout",
     "output_type": "stream",
     "text": [
      "46306\n"
     ]
    },
    {
     "data": {
      "image/png": "[encoded data removed]",
      "text/plain": [
       "<matplotlib.figure.Figure at 0x7fdb2a54e9b0>"
      ]
     },
     "metadata": {},
     "output_type": "display_data"
    },
    {
     "data": {
      "image/png": "[encoded data removed]",
      "text/plain": [
       "<matplotlib.figure.Figure at 0x7fdb2a54ea20>"
      ]
     },
     "metadata": {},
     "output_type": "display_data"
    }
   ],
   "source": [
    "data = np.zeros(dims)\n",
    "\n",
    "for ii in range(0, dims[0]):\n",
    "    for jj in range(0, dims[1]):\n",
    "        dists = np.sum(np.abs(coords - np.array((ii, jj))), axis=1)\n",
    "        data[ii, jj] = np.sum(dists)\n",
    "imshow(data)\n",
    "figure()\n",
    "imshow(data < 10000)\n",
    "print(np.sum(data < 10000))"
   ]
  },
  {
   "cell_type": "code",
   "execution_count": null,
   "metadata": {},
   "outputs": [],
   "source": []
  }
 ],
 "metadata": {
  "kernelspec": {
   "display_name": "Python 3",
   "language": "python",
   "name": "python3"
  },
  "language_info": {
   "codemirror_mode": {
    "name": "ipython",
    "version": 3
   },
   "file_extension": ".py",
   "mimetype": "text/x-python",
   "name": "python",
   "nbconvert_exporter": "python",
   "pygments_lexer": "ipython3",
   "version": "3.6.6"
  }
 },
 "nbformat": 4,
 "nbformat_minor": 2
}

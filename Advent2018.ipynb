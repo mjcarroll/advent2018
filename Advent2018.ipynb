{
 "cells": [
  {
   "cell_type": "code",
   "execution_count": 9,
   "metadata": {},
   "outputs": [],
   "source": [
    "import os\n",
    "\n",
    "from collections import defaultdict, Counter\n",
    "import numpy as np"
   ]
  },
  {
   "cell_type": "code",
   "execution_count": 3,
   "metadata": {},
   "outputs": [],
   "source": [
    "def Input(day):\n",
    "    # Read an input\n",
    "    filename = 'data/{}.txt'.format(day)\n",
    "    return open(filename)\n",
    "\n",
    "def Lines(day):\n",
    "    # Read the input and convert to an array of strings.\n",
    "    return Input(day).read().splitlines()\n",
    "\n",
    "def vector(day):\n",
    "    # Read the input, and convert it to a vector of numbers\n",
    "    return list(map(float, Lines(day)))"
   ]
  },
  {
   "cell_type": "markdown",
   "metadata": {},
   "source": [
    "## Day 1"
   ]
  },
  {
   "cell_type": "code",
   "execution_count": 4,
   "metadata": {},
   "outputs": [
    {
     "name": "stdout",
     "output_type": "stream",
     "text": [
      "533.0\n"
     ]
    }
   ],
   "source": [
    "# Read input\n",
    "inp = vector(1)\n",
    "           \n",
    "# The answer to the first one is just the sum\n",
    "print(sum(inp))"
   ]
  },
  {
   "cell_type": "code",
   "execution_count": 5,
   "metadata": {},
   "outputs": [
    {
     "ename": "NameError",
     "evalue": "name 'found' is not defined",
     "output_type": "error",
     "traceback": [
      "\u001b[0;31m---------------------------------------------------------------------------\u001b[0m",
      "\u001b[0;31mNameError\u001b[0m                                 Traceback (most recent call last)",
      "\u001b[0;32m<ipython-input-5-3e0f57497427>\u001b[0m in \u001b[0;36m<module>\u001b[0;34m()\u001b[0m\n\u001b[1;32m      4\u001b[0m \u001b[0mii\u001b[0m \u001b[0;34m=\u001b[0m \u001b[0;36m0\u001b[0m\u001b[0;34m\u001b[0m\u001b[0m\n\u001b[1;32m      5\u001b[0m \u001b[0ms\u001b[0m \u001b[0;34m=\u001b[0m \u001b[0;36m0\u001b[0m\u001b[0;34m\u001b[0m\u001b[0m\n\u001b[0;32m----> 6\u001b[0;31m \u001b[0;32mwhile\u001b[0m \u001b[0;32mnot\u001b[0m \u001b[0mfound\u001b[0m\u001b[0;34m:\u001b[0m\u001b[0;34m\u001b[0m\u001b[0m\n\u001b[0m\u001b[1;32m      7\u001b[0m     \u001b[0ms\u001b[0m \u001b[0;34m=\u001b[0m \u001b[0ms\u001b[0m \u001b[0;34m+\u001b[0m \u001b[0minp\u001b[0m\u001b[0;34m[\u001b[0m\u001b[0mii\u001b[0m \u001b[0;34m%\u001b[0m \u001b[0mlen\u001b[0m\u001b[0;34m(\u001b[0m\u001b[0minp\u001b[0m\u001b[0;34m)\u001b[0m\u001b[0;34m]\u001b[0m\u001b[0;34m\u001b[0m\u001b[0m\n\u001b[1;32m      8\u001b[0m     \u001b[0;32mif\u001b[0m \u001b[0ms\u001b[0m \u001b[0;32min\u001b[0m \u001b[0mv\u001b[0m\u001b[0;34m:\u001b[0m\u001b[0;34m\u001b[0m\u001b[0m\n",
      "\u001b[0;31mNameError\u001b[0m: name 'found' is not defined"
     ]
    }
   ],
   "source": [
    "# For the second part, use a set to determine if we've seen \n",
    "# a frequency before\n",
    "v = set()\n",
    "ii = 0\n",
    "s = 0\n",
    "while not found:\n",
    "    s = s + inp[ii % len(inp)]\n",
    "    if s in v:\n",
    "        print(\"Found freq: {} at iteration {} ({} passes)\".format(\n",
    "                s, ii, ii % len(inp)))\n",
    "        break\n",
    "    v.add(s)\n",
    "    ii = ii + 1"
   ]
  },
  {
   "cell_type": "markdown",
   "metadata": {},
   "source": [
    "## Day 2"
   ]
  },
  {
   "cell_type": "code",
   "execution_count": 28,
   "metadata": {},
   "outputs": [
    {
     "name": "stdout",
     "output_type": "stream",
     "text": [
      "Twos: 245, Threes: 36, Checksum: 8820\n"
     ]
    }
   ],
   "source": [
    "def checksum(s):\n",
    "    cnt = Counter()\n",
    "    for l in s:\n",
    "        cnt[l] += 1\n",
    "    return (2 in cnt.values(), 3 in cnt.values())\n",
    "\n",
    "assert(checksum('abcdef') == (False, False))\n",
    "assert(checksum('bababc') == (True, True))\n",
    "assert(checksum('abbcde') == (True, False))\n",
    "assert(checksum('abcccd') == (False, True))\n",
    "assert(checksum('aabcdd') == (True, False))\n",
    "assert(checksum('abcdee') == (True, False))\n",
    "assert(checksum('ababab') == (False, True))\n",
    "\n",
    "inp = Lines(2)\n",
    "\n",
    "twos = 0\n",
    "threes = 0\n",
    "\n",
    "for line in inp:\n",
    "    cnt = checksum(line)\n",
    "    if cnt[0]:\n",
    "        twos += 1\n",
    "    if cnt[1]:\n",
    "        threes += 1\n",
    "        \n",
    "print('Twos: {}, Threes: {}, Checksum: {}'.format(twos, threes, twos * threes))     "
   ]
  },
  {
   "cell_type": "code",
   "execution_count": 44,
   "metadata": {},
   "outputs": [
    {
     "name": "stdout",
     "output_type": "stream",
     "text": [
      "bpacnmglhizqygfsjixtlkwudr\n",
      "bpacnmglhizqygfsjixtukwudr\n",
      "bpacnmglhizqygfsjixtkwudr\n"
     ]
    }
   ],
   "source": [
    "def diff(s1, s2):\n",
    "    count = 0\n",
    "    for (c1, c2) in zip(s1, s2):\n",
    "        if c1 != c2:\n",
    "            count += 1\n",
    "    return count\n",
    "    \n",
    "fline1 = None\n",
    "fline2 = None\n",
    "    \n",
    "for line1 in inp:\n",
    "    for line2 in inp:\n",
    "        if diff(line1, line2) == 1:\n",
    "            fline1 = line1\n",
    "            fline2 = line2\n",
    "            break\n",
    "    if fline1:\n",
    "        break\n",
    "        \n",
    "print(fline1)\n",
    "print(fline2)\n",
    "\n",
    "out = ''\n",
    "for (c1, c2) in zip(fline1, fline2):\n",
    "    if c1 == c2:\n",
    "        out += c1\n",
    "print(out)"
   ]
  },
  {
   "cell_type": "code",
   "execution_count": null,
   "metadata": {},
   "outputs": [],
   "source": []
  }
 ],
 "metadata": {
  "kernelspec": {
   "display_name": "Python 3",
   "language": "python",
   "name": "python3"
  },
  "language_info": {
   "codemirror_mode": {
    "name": "ipython",
    "version": 3
   },
   "file_extension": ".py",
   "mimetype": "text/x-python",
   "name": "python",
   "nbconvert_exporter": "python",
   "pygments_lexer": "ipython3",
   "version": "3.6.6"
  }
 },
 "nbformat": 4,
 "nbformat_minor": 2
}

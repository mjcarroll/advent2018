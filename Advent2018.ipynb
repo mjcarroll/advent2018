{
 "cells": [
  {
   "cell_type": "code",
   "execution_count": 33,
   "metadata": {},
   "outputs": [],
   "source": [
    "import os\n",
    "\n",
    "import numpy as np"
   ]
  },
  {
   "cell_type": "code",
   "execution_count": 34,
   "metadata": {},
   "outputs": [],
   "source": [
    "def Input(day):\n",
    "    # Read an input\n",
    "    filename = 'data/{}.txt'.format(day)\n",
    "    return open(filename)\n",
    "\n",
    "def Lines(day):\n",
    "    # Read the input and convert to an array of strings.\n",
    "    return Input(day).read().splitlines()\n",
    "\n",
    "def vector(day):\n",
    "    # Read the input, and convert it to a vector of numbers\n",
    "    return list(map(float, Lines(day)))"
   ]
  },
  {
   "cell_type": "markdown",
   "metadata": {},
   "source": [
    "## Day 1"
   ]
  },
  {
   "cell_type": "code",
   "execution_count": 35,
   "metadata": {},
   "outputs": [
    {
     "name": "stdout",
     "output_type": "stream",
     "text": [
      "533.0\n"
     ]
    }
   ],
   "source": [
    "# Read input\n",
    "inp = vector(1)\n",
    "           \n",
    "# The answer to the first one is just the sum\n",
    "print(sum(inp))"
   ]
  },
  {
   "cell_type": "code",
   "execution_count": 36,
   "metadata": {},
   "outputs": [
    {
     "name": "stdout",
     "output_type": "stream",
     "text": [
      "Found freq: 73272.0 at iteration 130408 (528 passes)\n"
     ]
    }
   ],
   "source": [
    "# For the second part, use a set to determine if we've seen \n",
    "# a frequency before\n",
    "v = set()\n",
    "ii = 0\n",
    "s = 0\n",
    "while not found:\n",
    "    s = s + inp[ii % len(inp)]\n",
    "    if s in v:\n",
    "        print(\"Found freq: {} at iteration {} ({} passes)\".format(\n",
    "                s, ii, ii % len(inp)))\n",
    "        break\n",
    "    v.add(s)\n",
    "    ii = ii + 1"
   ]
  },
  {
   "cell_type": "code",
   "execution_count": null,
   "metadata": {},
   "outputs": [],
   "source": []
  }
 ],
 "metadata": {
  "kernelspec": {
   "display_name": "Python 3",
   "language": "python",
   "name": "python3"
  },
  "language_info": {
   "codemirror_mode": {
    "name": "ipython",
    "version": 3
   },
   "file_extension": ".py",
   "mimetype": "text/x-python",
   "name": "python",
   "nbconvert_exporter": "python",
   "pygments_lexer": "ipython3",
   "version": "3.6.6"
  }
 },
 "nbformat": 4,
 "nbformat_minor": 2
}
